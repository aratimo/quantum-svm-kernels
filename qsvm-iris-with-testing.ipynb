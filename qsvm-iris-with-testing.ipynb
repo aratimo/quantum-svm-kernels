{
 "cells": [
  {
   "cell_type": "code",
   "execution_count": 1,
   "metadata": {},
   "outputs": [],
   "source": [
    "import qiskit\n",
    "import qiskit_algorithms\n",
    "from qiskit.circuit.library import ZFeatureMap, ZZFeatureMap, PauliFeatureMap"
   ]
  },
  {
   "cell_type": "code",
   "execution_count": 2,
   "metadata": {},
   "outputs": [],
   "source": [
    "from sklearn.datasets import load_iris\n",
    "iris_data = load_iris()\n",
    "features = iris_data.data  # Features\n",
    "labels = iris_data.target"
   ]
  },
  {
   "cell_type": "code",
   "execution_count": 3,
   "metadata": {},
   "outputs": [],
   "source": [
    "import numpy as np\n",
    "from sklearn.model_selection import train_test_split\n",
    "from sklearn.preprocessing import MinMaxScaler\n",
    "\n",
    "features = MinMaxScaler(feature_range=(0, np.pi)).fit_transform(features)\n",
    "\n",
    "train_features, test_features, train_labels, test_labels = train_test_split(\n",
    "    features, labels, train_size=0.8, shuffle=True\n",
    ")"
   ]
  },
  {
   "cell_type": "code",
   "execution_count": 4,
   "metadata": {},
   "outputs": [
    {
     "name": "stdout",
     "output_type": "stream",
     "text": [
      "[0 2 1 1 0 2 1 0 0 0 1 0 2 1 1 1 0 1 1 2 0 0 2 0 1 0 1 2 0 0 1 1 2 0 2 2 1\n",
      " 0 1 2 0 2 1 2 1 1 2 1 1 2 0 2 2 2 1 1 1 2 2 1 0 2 0 2 0 0 0 1 2 0 0 1 1 1\n",
      " 0 2 0 1 0 1 1 1 1 1 2 0 2 0 0 2 0 1 2 1 1 0 1 0 2 2 0 2 1 2 2 2 2 2 2 2 0\n",
      " 2 0 0 0 0 2 1 0 0] [2 1 2 0 1 0 2 2 1 2 0 2 0 0 0 1 0 2 1 1 0 2 2 0 1 1 2 1 1 2]\n"
     ]
    }
   ],
   "source": [
    "print(train_labels, test_labels)"
   ]
  },
  {
   "cell_type": "code",
   "execution_count": 5,
   "metadata": {},
   "outputs": [],
   "source": [
    "from qiskit_algorithms.state_fidelities import ComputeUncompute\n",
    "from qiskit.primitives import Sampler\n",
    "\n",
    "fidelity = ComputeUncompute(sampler=Sampler())"
   ]
  },
  {
   "cell_type": "code",
   "execution_count": 6,
   "metadata": {},
   "outputs": [],
   "source": [
    "from qiskit_machine_learning.kernels import FidelityQuantumKernel"
   ]
  },
  {
   "cell_type": "code",
   "execution_count": 7,
   "metadata": {},
   "outputs": [],
   "source": [
    "from qiskit_machine_learning.algorithms import QSVC"
   ]
  },
  {
   "cell_type": "code",
   "execution_count": 8,
   "metadata": {},
   "outputs": [
    {
     "data": {
      "text/plain": [
       "0.9666666666666667"
      ]
     },
     "execution_count": 8,
     "metadata": {},
     "output_type": "execute_result"
    }
   ],
   "source": [
    "Z_feature_map = ZFeatureMap(2)\n",
    "Z_kernel = FidelityQuantumKernel(feature_map=Z_feature_map, fidelity=fidelity)\n",
    "\n",
    "qsvc = QSVC(quantum_kernel=Z_kernel)\n",
    "qsvc.fit(train_features, train_labels)\n",
    "qsvc.score(test_features, test_labels)"
   ]
  },
  {
   "cell_type": "code",
   "execution_count": 9,
   "metadata": {},
   "outputs": [
    {
     "data": {
      "text/plain": [
       "0.8666666666666667"
      ]
     },
     "execution_count": 9,
     "metadata": {},
     "output_type": "execute_result"
    }
   ],
   "source": [
    "ZZ_feature_map = ZZFeatureMap(2)\n",
    "ZZ_kernel = FidelityQuantumKernel(feature_map=ZZ_feature_map, fidelity=fidelity)\n",
    "\n",
    "qsvc = QSVC(quantum_kernel=ZZ_kernel)\n",
    "qsvc.fit(train_features, train_labels)\n",
    "qsvc.score(test_features, test_labels)"
   ]
  },
  {
   "cell_type": "code",
   "execution_count": 10,
   "metadata": {},
   "outputs": [
    {
     "data": {
      "text/plain": [
       "0.96"
      ]
     },
     "execution_count": 10,
     "metadata": {},
     "output_type": "execute_result"
    }
   ],
   "source": [
    "Pauli_feature_map = PauliFeatureMap(2, paulis = ['Z','X','ZY'])\n",
    "Pauli_kernel = FidelityQuantumKernel(feature_map=Pauli_feature_map, fidelity=fidelity)\n",
    "\n",
    "qsvc = QSVC(quantum_kernel=Pauli_kernel)\n",
    "qsvc.fit(features, labels)\n",
    "qsvc.score(features, labels)"
   ]
  },
  {
   "cell_type": "code",
   "execution_count": 11,
   "metadata": {},
   "outputs": [
    {
     "data": {
      "text/plain": [
       "0.47333333333333333"
      ]
     },
     "execution_count": 11,
     "metadata": {},
     "output_type": "execute_result"
    }
   ],
   "source": [
    "Pauli_feature_map_Y = PauliFeatureMap(2, paulis = ['Y'])\n",
    "Pauli_kernel_Y = FidelityQuantumKernel(feature_map=Pauli_feature_map_Y, fidelity=fidelity)\n",
    "\n",
    "qsvc_Pauli_Y = QSVC(quantum_kernel=Pauli_kernel_Y)\n",
    "qsvc_Pauli_Y.fit(features, labels)\n",
    "qsvc_Pauli_Y.score(features, labels)"
   ]
  },
  {
   "cell_type": "code",
   "execution_count": 12,
   "metadata": {},
   "outputs": [
    {
     "data": {
      "text/plain": [
       "0.7533333333333333"
      ]
     },
     "execution_count": 12,
     "metadata": {},
     "output_type": "execute_result"
    }
   ],
   "source": [
    "Pauli_feature_map_YY = PauliFeatureMap(2, paulis = ['YY'])\n",
    "Pauli_kernel_YY = FidelityQuantumKernel(feature_map=Pauli_feature_map_YY, fidelity=fidelity)\n",
    "\n",
    "qsvc_Pauli_YY = QSVC(quantum_kernel=Pauli_kernel_YY)\n",
    "qsvc_Pauli_YY.fit(features, labels)\n",
    "qsvc_Pauli_YY.score(features, labels)"
   ]
  },
  {
   "cell_type": "code",
   "execution_count": 13,
   "metadata": {},
   "outputs": [
    {
     "data": {
      "text/plain": [
       "0.8133333333333334"
      ]
     },
     "execution_count": 13,
     "metadata": {},
     "output_type": "execute_result"
    }
   ],
   "source": [
    "Pauli_feature_map_ZZ = PauliFeatureMap(2, paulis = ['ZZ'])\n",
    "Pauli_kernel_ZZ = FidelityQuantumKernel(feature_map=Pauli_feature_map_ZZ, fidelity=fidelity)\n",
    "\n",
    "qsvc_Pauli_ZZ = QSVC(quantum_kernel=Pauli_kernel_ZZ)\n",
    "qsvc_Pauli_ZZ.fit(features, labels)\n",
    "qsvc_Pauli_ZZ.score(features, labels)"
   ]
  },
  {
   "cell_type": "code",
   "execution_count": 30,
   "metadata": {},
   "outputs": [
    {
     "data": {
      "text/plain": [
       "0.8"
      ]
     },
     "execution_count": 30,
     "metadata": {},
     "output_type": "execute_result"
    }
   ],
   "source": [
    "Pauli_feature_map_Z_ZZ = PauliFeatureMap(2, reps=3, paulis = ['Z', 'ZZ'])\n",
    "Pauli_kernel_Z_ZZ = FidelityQuantumKernel(feature_map=Pauli_feature_map_Z_ZZ, fidelity=fidelity)\n",
    "\n",
    "qsvc_Pauli_Z_ZZ = QSVC(quantum_kernel=Pauli_kernel_Z_ZZ)\n",
    "qsvc_Pauli_Z_ZZ.fit(features, labels)\n",
    "qsvc_Pauli_Z_ZZ.score(features, labels)"
   ]
  },
  {
   "cell_type": "code",
   "execution_count": 14,
   "metadata": {},
   "outputs": [
    {
     "data": {
      "text/plain": [
       "0.8666666666666667"
      ]
     },
     "execution_count": 14,
     "metadata": {},
     "output_type": "execute_result"
    }
   ],
   "source": [
    "Pauli_feature_map_Z_X = PauliFeatureMap(2, reps=2, paulis = ['Z', 'X'])\n",
    "Pauli_kernel_Z_X = FidelityQuantumKernel(feature_map=Pauli_feature_map_Z_X, fidelity=fidelity)\n",
    "\n",
    "qsvc_Pauli_Z_X = QSVC(quantum_kernel=Pauli_kernel_Z_X)\n",
    "qsvc_Pauli_Z_X.fit(features, labels)\n",
    "qsvc_Pauli_Z_X.score(features, labels)"
   ]
  },
  {
   "cell_type": "code",
   "execution_count": 15,
   "metadata": {},
   "outputs": [
    {
     "data": {
      "text/plain": [
       "0.7533333333333333"
      ]
     },
     "execution_count": 15,
     "metadata": {},
     "output_type": "execute_result"
    }
   ],
   "source": [
    "Pauli_feature_map_Y_YY = PauliFeatureMap(2, reps=2, paulis = ['Y', 'YY'])\n",
    "Pauli_kernel_Y_YY = FidelityQuantumKernel(feature_map=Pauli_feature_map_Y_YY, fidelity=fidelity)\n",
    "\n",
    "qsvc_Pauli_Y_YY = QSVC(quantum_kernel=Pauli_kernel_Y_YY)\n",
    "qsvc_Pauli_Y_YY.fit(features, labels)\n",
    "qsvc_Pauli_Y_YY.score(features, labels)"
   ]
  },
  {
   "cell_type": "code",
   "execution_count": 16,
   "metadata": {},
   "outputs": [
    {
     "data": {
      "text/plain": [
       "0.8866666666666667"
      ]
     },
     "execution_count": 16,
     "metadata": {},
     "output_type": "execute_result"
    }
   ],
   "source": [
    "Pauli_feature_map_X_Y_Z = PauliFeatureMap(2, reps=2, paulis = ['X', 'Y', 'Z'])\n",
    "Pauli_kernel_X_Y_Z = FidelityQuantumKernel(feature_map=Pauli_feature_map_X_Y_Z, fidelity=fidelity)\n",
    "\n",
    "qsvc_Pauli_X_Y_Z = QSVC(quantum_kernel=Pauli_kernel_X_Y_Z)\n",
    "qsvc_Pauli_X_Y_Z.fit(features, labels)\n",
    "qsvc_Pauli_X_Y_Z.score(features, labels)"
   ]
  },
  {
   "cell_type": "code",
   "execution_count": null,
   "metadata": {},
   "outputs": [],
   "source": []
  }
 ],
 "metadata": {
  "kernelspec": {
   "display_name": "quantum",
   "language": "python",
   "name": "python3"
  },
  "language_info": {
   "codemirror_mode": {
    "name": "ipython",
    "version": 3
   },
   "file_extension": ".py",
   "mimetype": "text/x-python",
   "name": "python",
   "nbconvert_exporter": "python",
   "pygments_lexer": "ipython3",
   "version": "3.8.13"
  }
 },
 "nbformat": 4,
 "nbformat_minor": 2
}
